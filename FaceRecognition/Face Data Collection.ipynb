{
 "cells": [
  {
   "cell_type": "code",
   "execution_count": 13,
   "metadata": {},
   "outputs": [],
   "source": [
    "import os\n",
    "import numpy as np\n",
    "import cv2\n",
    "\n",
    "dataset_path = \"./data/\"\n",
    "\n",
    "face_data = []\n",
    "labels = []\n",
    "\n",
    "for fx in os.listdir(dataset_path):\n",
    "    if fx.endswith(\".npy\"):\n",
    "        l = fx.split(\".\")[0]\n",
    "        \n",
    "        face_item = np.load(dataset_path + fx)\n",
    "        print(face_item.shape)\n",
    "        print(l)\n",
    "        \n",
    "        face_data.append(face_item)\n",
    "        # appending labels #times => faces\n",
    "        for i in range(face_item.shape[0]):\n",
    "            labels.append(l)\n",
    "\n",
    "\n",
    "X = np.concatenate(face_data, axis =0)\n",
    "y = np.array(labels)\n",
    "\n"
   ]
  },
  {
   "cell_type": "code",
   "execution_count": null,
   "metadata": {},
   "outputs": [],
   "source": []
  }
 ],
 "metadata": {
  "kernelspec": {
   "display_name": "Python 3",
   "language": "python",
   "name": "python3"
  },
  "language_info": {
   "codemirror_mode": {
    "name": "ipython",
    "version": 3
   },
   "file_extension": ".py",
   "mimetype": "text/x-python",
   "name": "python",
   "nbconvert_exporter": "python",
   "pygments_lexer": "ipython3",
   "version": "3.7.4"
  }
 },
 "nbformat": 4,
 "nbformat_minor": 2
}
